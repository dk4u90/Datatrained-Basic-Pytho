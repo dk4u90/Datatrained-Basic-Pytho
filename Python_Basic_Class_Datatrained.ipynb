{
 "cells": [
  {
   "cell_type": "code",
   "execution_count": 1,
   "metadata": {},
   "outputs": [],
   "source": [
    "class empolyee:\n",
    "    id=10\n",
    "    name=\"Devansh\"\n",
    "    def display(self):\n",
    "        print(self.id,self.name)"
   ]
  },
  {
   "cell_type": "code",
   "execution_count": 2,
   "metadata": {},
   "outputs": [
    {
     "name": "stdout",
     "output_type": "stream",
     "text": [
      "10 Devansh\n"
     ]
    }
   ],
   "source": [
    "c=empolyee()\n",
    "c.display()"
   ]
  },
  {
   "cell_type": "code",
   "execution_count": 3,
   "metadata": {},
   "outputs": [
    {
     "name": "stdout",
     "output_type": "stream",
     "text": [
      "Car name: Honda\n",
      "Car Year: 2021\n",
      "Car cc: 1200\n",
      "Car model: City\n"
     ]
    }
   ],
   "source": [
    "class car:\n",
    "    name=\"Honda\"\n",
    "    year=\"2021\"\n",
    "    cc=1200\n",
    "    model=\"City\"\n",
    "    def display(self):\n",
    "        print(\"Car name:\",self.name)\n",
    "        print(\"Car Year:\",self.year)\n",
    "        print(\"Car cc:\",self.cc)\n",
    "        print(\"Car model:\",self.model)\n",
    "c=car()\n",
    "c.display()"
   ]
  },
  {
   "cell_type": "markdown",
   "metadata": {},
   "source": [
    "### Creating constructor in python"
   ]
  },
  {
   "cell_type": "code",
   "execution_count": 4,
   "metadata": {},
   "outputs": [
    {
     "name": "stdout",
     "output_type": "stream",
     "text": [
      "Aulto 2010\n",
      "Aulto\n",
      "2010\n"
     ]
    }
   ],
   "source": [
    "class car:\n",
    "    def __init__(self,modelname,year):\n",
    "        self.modelname=modelname\n",
    "        self.year=year\n",
    "    def display(self):\n",
    "        print(self.modelname,self.year)\n",
    "c1 = car('Aulto',2010)\n",
    "c1.display()\n",
    "print(c1.modelname)\n",
    "print(c1.year)"
   ]
  },
  {
   "cell_type": "code",
   "execution_count": 5,
   "metadata": {},
   "outputs": [],
   "source": [
    "class Employee:\n",
    "    company=\"Datatrained\"\n",
    "    \n",
    "    def __init__(self,name,age,gender):\n",
    "        self.name=name\n",
    "        self.age=age\n",
    "        self.gender=gender\n",
    "    def func_message(self):\n",
    "        print(\"Welcom to python programing\")"
   ]
  },
  {
   "cell_type": "code",
   "execution_count": 6,
   "metadata": {},
   "outputs": [
    {
     "name": "stdout",
     "output_type": "stream",
     "text": [
      "Welcom to python programing\n",
      "Datatrained\n",
      "Sabdh\n",
      "35\n",
      "Male\n"
     ]
    }
   ],
   "source": [
    "E=Employee('Sabdh',35,'Male')\n",
    "E.func_message()\n",
    "print(E.company)\n",
    "print(E.name)\n",
    "print(E.age)\n",
    "print(E.gender)"
   ]
  },
  {
   "cell_type": "code",
   "execution_count": 7,
   "metadata": {},
   "outputs": [
    {
     "name": "stdout",
     "output_type": "stream",
     "text": [
      "Welcom to python programing\n",
      "Datatrained\n",
      "Sonali\n",
      "25\n",
      "Female\n"
     ]
    }
   ],
   "source": [
    "\n",
    "E2=Employee('Sonali',25,'Female')\n",
    "E2.func_message()\n",
    "print(E2.company)\n",
    "print(E2.name)\n",
    "print(E2.age)\n",
    "print(E2.gender)"
   ]
  },
  {
   "cell_type": "code",
   "execution_count": 8,
   "metadata": {},
   "outputs": [],
   "source": [
    "class circle:\n",
    "    pi=3.14159\n",
    "    \n",
    "    def __init__(self,radious):\n",
    "        self.radious=radious\n",
    "        \n",
    "    def area(self):\n",
    "        return circle.pi*self.radious*self.radious"
   ]
  },
  {
   "cell_type": "code",
   "execution_count": 9,
   "metadata": {},
   "outputs": [
    {
     "name": "stdout",
     "output_type": "stream",
     "text": [
      "314.159\n",
      "3.14159\n",
      "3.14159\n"
     ]
    }
   ],
   "source": [
    "c=circle(10)\n",
    "print(c.area())\n",
    "print(c.pi)\n",
    "print(circle.pi)"
   ]
  },
  {
   "cell_type": "code",
   "execution_count": 10,
   "metadata": {},
   "outputs": [],
   "source": [
    "class vehicle:\n",
    "    def __init__(start,brand,model,type):\n",
    "        start.brand=brand\n",
    "        start.model=model\n",
    "        start.type=type\n",
    "        start.gas_tank_size=14\n",
    "        start.fuel_lavel=0\n",
    "        \n",
    "    def fuel_up(start):\n",
    "        start.fuel_lavel=start.gas_tank_size\n",
    "        print('Gas tank is full.')\n",
    "        \n",
    "    def drive(start):\n",
    "        print(f'The {start.model} is now driving.')"
   ]
  },
  {
   "cell_type": "code",
   "execution_count": 11,
   "metadata": {},
   "outputs": [
    {
     "name": "stdout",
     "output_type": "stream",
     "text": [
      "Honda\n",
      "Ridgeline\n",
      "Truck\n"
     ]
    }
   ],
   "source": [
    "vehicle_object = vehicle('Honda','Ridgeline','Truck')\n",
    "print(vehicle_object.brand)\n",
    "print(vehicle_object.model)\n",
    "print(vehicle_object.type)"
   ]
  },
  {
   "cell_type": "code",
   "execution_count": 12,
   "metadata": {},
   "outputs": [
    {
     "name": "stdout",
     "output_type": "stream",
     "text": [
      "Gas tank is full.\n",
      "The Ridgeline is now driving.\n"
     ]
    }
   ],
   "source": [
    "vehicle_object.fuel_up()\n",
    "vehicle_object.drive()"
   ]
  },
  {
   "cell_type": "code",
   "execution_count": 13,
   "metadata": {},
   "outputs": [
    {
     "name": "stdout",
     "output_type": "stream",
     "text": [
      "Subaru\n",
      "Forester\n",
      "Crossover\n",
      "Gas tank is full.\n",
      "The Forester is now driving.\n"
     ]
    }
   ],
   "source": [
    "subaru=vehicle('Subaru','Forester','Crossover')\n",
    "print(subaru.brand)\n",
    "print(subaru.model)\n",
    "print(subaru.type)\n",
    "subaru.fuel_up()\n",
    "subaru.drive()"
   ]
  },
  {
   "cell_type": "markdown",
   "metadata": {},
   "source": [
    "### Inheritance"
   ]
  },
  {
   "cell_type": "code",
   "execution_count": 18,
   "metadata": {},
   "outputs": [],
   "source": [
    "class car1:\n",
    "    carname=\"Honda\"\n",
    "    \n",
    "class car2(car1):\n",
    "    carmodel=\"City\""
   ]
  },
  {
   "cell_type": "code",
   "execution_count": 19,
   "metadata": {},
   "outputs": [
    {
     "name": "stdout",
     "output_type": "stream",
     "text": [
      "Honda\n",
      "City\n"
     ]
    }
   ],
   "source": [
    "car2Instance=car2()\n",
    "print(car2Instance.carname)\n",
    "print(car2Instance.carmodel)"
   ]
  },
  {
   "cell_type": "code",
   "execution_count": 20,
   "metadata": {},
   "outputs": [
    {
     "name": "stdout",
     "output_type": "stream",
     "text": [
      "Honda\n"
     ]
    },
    {
     "ename": "AttributeError",
     "evalue": "'car1' object has no attribute 'carmodel'",
     "output_type": "error",
     "traceback": [
      "\u001b[1;31m---------------------------------------------------------------------------\u001b[0m",
      "\u001b[1;31mAttributeError\u001b[0m                            Traceback (most recent call last)",
      "\u001b[1;32m<ipython-input-20-015cee3204c0>\u001b[0m in \u001b[0;36m<module>\u001b[1;34m\u001b[0m\n\u001b[0;32m      1\u001b[0m \u001b[0mcar2Instance\u001b[0m\u001b[1;33m=\u001b[0m\u001b[0mcar1\u001b[0m\u001b[1;33m(\u001b[0m\u001b[1;33m)\u001b[0m\u001b[1;33m\u001b[0m\u001b[1;33m\u001b[0m\u001b[0m\n\u001b[0;32m      2\u001b[0m \u001b[0mprint\u001b[0m\u001b[1;33m(\u001b[0m\u001b[0mcar2Instance\u001b[0m\u001b[1;33m.\u001b[0m\u001b[0mcarname\u001b[0m\u001b[1;33m)\u001b[0m\u001b[1;33m\u001b[0m\u001b[1;33m\u001b[0m\u001b[0m\n\u001b[1;32m----> 3\u001b[1;33m \u001b[0mprint\u001b[0m\u001b[1;33m(\u001b[0m\u001b[0mcar2Instance\u001b[0m\u001b[1;33m.\u001b[0m\u001b[0mcarmodel\u001b[0m\u001b[1;33m)\u001b[0m\u001b[1;33m\u001b[0m\u001b[1;33m\u001b[0m\u001b[0m\n\u001b[0m",
      "\u001b[1;31mAttributeError\u001b[0m: 'car1' object has no attribute 'carmodel'"
     ]
    }
   ],
   "source": [
    "car2Instance=car1()\n",
    "print(car2Instance.carname)\n",
    "print(car2Instance.carmodel)"
   ]
  },
  {
   "cell_type": "code",
   "execution_count": null,
   "metadata": {},
   "outputs": [],
   "source": []
  }
 ],
 "metadata": {
  "kernelspec": {
   "display_name": "Python 3",
   "language": "python",
   "name": "python3"
  },
  "language_info": {
   "codemirror_mode": {
    "name": "ipython",
    "version": 3
   },
   "file_extension": ".py",
   "mimetype": "text/x-python",
   "name": "python",
   "nbconvert_exporter": "python",
   "pygments_lexer": "ipython3",
   "version": "3.8.5"
  }
 },
 "nbformat": 4,
 "nbformat_minor": 4
}
