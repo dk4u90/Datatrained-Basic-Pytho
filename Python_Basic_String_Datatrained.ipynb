{
 "cells": [
  {
   "cell_type": "markdown",
   "metadata": {},
   "source": [
    "# Creating String in Python"
   ]
  },
  {
   "cell_type": "code",
   "execution_count": 1,
   "metadata": {},
   "outputs": [
    {
     "name": "stdout",
     "output_type": "stream",
     "text": [
      "My name is dilip\n",
      "My name is dilip\n",
      "Triple quotes are generally used for  \n",
      "    represent the multiline or \n",
      "    docstring\n"
     ]
    }
   ],
   "source": [
    "str1='My name is dilip'\n",
    "str2=\"My name is dilip\"\n",
    "str3='''Triple quotes are generally used for  \n",
    "    represent the multiline or \n",
    "    docstring'''\n",
    "print(str1)\n",
    "print(str2)\n",
    "print(str3)"
   ]
  },
  {
   "cell_type": "markdown",
   "metadata": {},
   "source": [
    "# Strings indexing and splitting"
   ]
  },
  {
   "cell_type": "code",
   "execution_count": 2,
   "metadata": {},
   "outputs": [
    {
     "name": "stdout",
     "output_type": "stream",
     "text": [
      "T\n",
      "h\n",
      "i\n",
      "s\n",
      " \n",
      "i\n",
      "s\n"
     ]
    }
   ],
   "source": [
    "str4='This is my first code'\n",
    "print(str4[0])\n",
    "print(str4[1])\n",
    "print(str4[2])\n",
    "print(str4[3])\n",
    "print(str4[4])\n",
    "print(str4[5])\n",
    "print(str4[6])"
   ]
  },
  {
   "cell_type": "code",
   "execution_count": 3,
   "metadata": {},
   "outputs": [
    {
     "name": "stdout",
     "output_type": "stream",
     "text": [
      "T\n",
      "h\n",
      "i\n",
      "s\n",
      " \n",
      "i\n",
      "s\n",
      " \n",
      "m\n",
      "y\n",
      " \n",
      "f\n",
      "i\n",
      "r\n",
      "s\n",
      "t\n",
      " \n",
      "c\n",
      "o\n",
      "d\n",
      "e\n"
     ]
    }
   ],
   "source": [
    "for i in str4:\n",
    "  print(i)"
   ]
  },
  {
   "cell_type": "code",
   "execution_count": 4,
   "metadata": {},
   "outputs": [
    {
     "name": "stdout",
     "output_type": "stream",
     "text": [
      "D\n",
      "atat\n",
      "Datatrained\n",
      "Datat\n",
      "atatrained\n",
      "Datatraine\n",
      "rained\n",
      "Drd\n",
      "at\n"
     ]
    }
   ],
   "source": [
    "str5='Datatrained'\n",
    "print(str5[:1])\n",
    "print(str5[1:5])\n",
    "print(str5[:])\n",
    "print(str5[0:5])\n",
    "print(str5[1:])\n",
    "print(str5[:-1])\n",
    "print(str5[-6:])\n",
    "print(str5[::5])\n",
    "print(str5[1:6:3])\n"
   ]
  },
  {
   "cell_type": "markdown",
   "metadata": {},
   "source": [
    "# Deleting the String"
   ]
  },
  {
   "cell_type": "code",
   "execution_count": 5,
   "metadata": {},
   "outputs": [
    {
     "name": "stdout",
     "output_type": "stream",
     "text": [
      "Datatrained\n"
     ]
    },
    {
     "ename": "TypeError",
     "evalue": "'str' object does not support item deletion",
     "output_type": "error",
     "traceback": [
      "\u001b[1;31m---------------------------------------------------------------------------\u001b[0m",
      "\u001b[1;31mTypeError\u001b[0m                                 Traceback (most recent call last)",
      "\u001b[1;32m<ipython-input-5-76fce32f7869>\u001b[0m in \u001b[0;36m<module>\u001b[1;34m\u001b[0m\n\u001b[0;32m      1\u001b[0m \u001b[0mstr6\u001b[0m\u001b[1;33m=\u001b[0m\u001b[1;34m'Datatrained'\u001b[0m\u001b[1;33m\u001b[0m\u001b[1;33m\u001b[0m\u001b[0m\n\u001b[0;32m      2\u001b[0m \u001b[0mprint\u001b[0m\u001b[1;33m(\u001b[0m\u001b[0mstr6\u001b[0m\u001b[1;33m)\u001b[0m\u001b[1;33m\u001b[0m\u001b[1;33m\u001b[0m\u001b[0m\n\u001b[1;32m----> 3\u001b[1;33m \u001b[1;32mdel\u001b[0m \u001b[0mstr6\u001b[0m\u001b[1;33m[\u001b[0m\u001b[1;36m2\u001b[0m\u001b[1;33m:\u001b[0m\u001b[1;36m5\u001b[0m\u001b[1;33m]\u001b[0m\u001b[1;33m\u001b[0m\u001b[1;33m\u001b[0m\u001b[0m\n\u001b[0m\u001b[0;32m      4\u001b[0m \u001b[0mprint\u001b[0m\u001b[1;33m(\u001b[0m\u001b[0mstr6\u001b[0m\u001b[1;33m)\u001b[0m\u001b[1;33m\u001b[0m\u001b[1;33m\u001b[0m\u001b[0m\n",
      "\u001b[1;31mTypeError\u001b[0m: 'str' object does not support item deletion"
     ]
    }
   ],
   "source": [
    "str6='Datatrained'\n",
    "print(str6)\n",
    "del str6[2:5]\n",
    "print(str6)"
   ]
  },
  {
   "cell_type": "code",
   "execution_count": 6,
   "metadata": {},
   "outputs": [
    {
     "ename": "NameError",
     "evalue": "name 'str6' is not defined",
     "output_type": "error",
     "traceback": [
      "\u001b[1;31m---------------------------------------------------------------------------\u001b[0m",
      "\u001b[1;31mNameError\u001b[0m                                 Traceback (most recent call last)",
      "\u001b[1;32m<ipython-input-6-54e8e36f20cd>\u001b[0m in \u001b[0;36m<module>\u001b[1;34m\u001b[0m\n\u001b[0;32m      1\u001b[0m \u001b[1;32mdel\u001b[0m \u001b[0mstr6\u001b[0m\u001b[1;33m\u001b[0m\u001b[1;33m\u001b[0m\u001b[0m\n\u001b[1;32m----> 2\u001b[1;33m \u001b[0mprint\u001b[0m\u001b[1;33m(\u001b[0m\u001b[0mstr6\u001b[0m\u001b[1;33m)\u001b[0m\u001b[1;33m\u001b[0m\u001b[1;33m\u001b[0m\u001b[0m\n\u001b[0m",
      "\u001b[1;31mNameError\u001b[0m: name 'str6' is not defined"
     ]
    }
   ],
   "source": [
    "del str6\n",
    "print(str6)"
   ]
  },
  {
   "cell_type": "markdown",
   "metadata": {},
   "source": [
    "### String Operators"
   ]
  },
  {
   "cell_type": "code",
   "execution_count": 7,
   "metadata": {},
   "outputs": [
    {
     "name": "stdout",
     "output_type": "stream",
     "text": [
      "HelloHelloHello\n",
      "Helloword\n",
      "True\n",
      "False\n",
      "The string str : Hello\n"
     ]
    }
   ],
   "source": [
    "str7='Hello'\n",
    "str8=\"word\"\n",
    "print(str7*3)\n",
    "print(str7+str8)\n",
    "print('w' in str8)\n",
    "print('wo' not in str8)\n",
    "print('The string str : {}'.format(str7))"
   ]
  },
  {
   "cell_type": "markdown",
   "metadata": {},
   "source": [
    "### Python String Formatting"
   ]
  },
  {
   "cell_type": "code",
   "execution_count": 8,
   "metadata": {},
   "outputs": [
    {
     "ename": "SyntaxError",
     "evalue": "invalid syntax (<ipython-input-8-38b1e4bb9a84>, line 1)",
     "output_type": "error",
     "traceback": [
      "\u001b[1;36m  File \u001b[1;32m\"<ipython-input-8-38b1e4bb9a84>\"\u001b[1;36m, line \u001b[1;32m1\u001b[0m\n\u001b[1;33m    str9=\"They said \"Hellow what's going on?\"\"\u001b[0m\n\u001b[1;37m                     ^\u001b[0m\n\u001b[1;31mSyntaxError\u001b[0m\u001b[1;31m:\u001b[0m invalid syntax\n"
     ]
    }
   ],
   "source": [
    "str9=\"They said \"Hellow what's going on?\"\"\n",
    "print(str9)"
   ]
  },
  {
   "cell_type": "code",
   "execution_count": 9,
   "metadata": {},
   "outputs": [
    {
     "name": "stdout",
     "output_type": "stream",
     "text": [
      "They said \"Hellow what's going on?\n"
     ]
    }
   ],
   "source": [
    "str9='''They said \"Hellow what's going on?'''\n",
    "print(str9)"
   ]
  },
  {
   "cell_type": "code",
   "execution_count": 10,
   "metadata": {},
   "outputs": [
    {
     "name": "stdout",
     "output_type": "stream",
     "text": [
      "They said \"Hellow what's going on?\n"
     ]
    }
   ],
   "source": [
    "str9='''They said \"Hellow what's going on?'''\n",
    "print(str9)"
   ]
  },
  {
   "cell_type": "code",
   "execution_count": 11,
   "metadata": {},
   "outputs": [
    {
     "name": "stdout",
     "output_type": "stream",
     "text": [
      "They said \"Hellow what's going on?\n"
     ]
    }
   ],
   "source": [
    "print('They said \"Hellow what\\'s going on?')"
   ]
  },
  {
   "cell_type": "code",
   "execution_count": 12,
   "metadata": {},
   "outputs": [
    {
     "name": "stdout",
     "output_type": "stream",
     "text": [
      "They said \"Hellow what's going on?\"\n"
     ]
    }
   ],
   "source": [
    "print(\"They said \\\"Hellow what's going on?\\\"\")"
   ]
  },
  {
   "cell_type": "code",
   "execution_count": 13,
   "metadata": {},
   "outputs": [
    {
     "name": "stdout",
     "output_type": "stream",
     "text": [
      "www.example.com\\example\n"
     ]
    }
   ],
   "source": [
    "print('www.example.com\\\\example')"
   ]
  },
  {
   "cell_type": "code",
   "execution_count": 14,
   "metadata": {},
   "outputs": [
    {
     "name": "stdout",
     "output_type": "stream",
     "text": [
      "Printing \n",
      " new \n",
      " line \n",
      " after \n",
      " every \n",
      " word\n",
      "Printing \t new \t tab \t after \t every \t word\n"
     ]
    }
   ],
   "source": [
    "print(\"Printing \\n new \\n line \\n after \\n every \\n word\")\n",
    "print(\"Printing \\t new \\t tab \\t after \\t every \\t word\")"
   ]
  },
  {
   "cell_type": "markdown",
   "metadata": {},
   "source": [
    "# The format() method"
   ]
  },
  {
   "cell_type": "code",
   "execution_count": 15,
   "metadata": {},
   "outputs": [
    {
     "name": "stdout",
     "output_type": "stream",
     "text": [
      "Devansh and Abhishek both are the best friend\n",
      "Rohit and Virat best players \n",
      "James,Peter,Ricky\n"
     ]
    }
   ],
   "source": [
    "print(\"{} and {} both are the best friend\".format(\"Devansh\",\"Abhishek\"))  \n",
    "print(\"{1} and {0} best players \".format(\"Virat\",\"Rohit\"))  \n",
    "print(\"{a},{b},{c}\".format(a = \"James\", b = \"Peter\", c = \"Ricky\"))"
   ]
  },
  {
   "cell_type": "code",
   "execution_count": 16,
   "metadata": {},
   "outputs": [
    {
     "name": "stdout",
     "output_type": "stream",
     "text": [
      "Hi I am Integer ... My value is 10\n",
      "Hi I am float ... My value is 1.290000\n",
      "Hi I am string ... My value is Devansh\n"
     ]
    }
   ],
   "source": [
    "Integer = 10;    \n",
    "Float = 1.290    \n",
    "String = \"Devansh\"    \n",
    "print(\"Hi I am Integer ... My value is %d\\nHi I am float ... My value is %f\\nHi I am string ... My value is %s\"%(Integer,Float,String))"
   ]
  },
  {
   "cell_type": "markdown",
   "metadata": {},
   "source": [
    "# Python String functions"
   ]
  },
  {
   "cell_type": "code",
   "execution_count": 17,
   "metadata": {},
   "outputs": [
    {
     "name": "stdout",
     "output_type": "stream",
     "text": [
      "Datatrained\n",
      "*****Datatrained*****\n",
      "True\n",
      "True\n",
      "True\n",
      "False\n",
      "False\n",
      "False\n",
      "datatrained\n",
      "DATATRAINED\n",
      "datatrained\n",
      "['D', 't', 'tr', 'ined']\n",
      "dATATRAINED\n",
      "Datatrained\n"
     ]
    }
   ],
   "source": [
    "example='Datatrained'\n",
    "print(example.capitalize())\n",
    "print(example.center(21,'*'))\n",
    "print(example.endswith('ed'))\n",
    "print(example.isalnum())\n",
    "print(example.isalpha())\n",
    "print(example.isdecimal())\n",
    "print(example.isdigit())\n",
    "print(example.islower())\n",
    "print(example.lower())\n",
    "print(example.upper())\n",
    "print(example.replace(\"D\",'d'))\n",
    "print(example.split('a'))\n",
    "print(example.swapcase())\n",
    "print(example.title())"
   ]
  },
  {
   "cell_type": "code",
   "execution_count": null,
   "metadata": {},
   "outputs": [],
   "source": []
  },
  {
   "cell_type": "code",
   "execution_count": null,
   "metadata": {},
   "outputs": [],
   "source": []
  },
  {
   "cell_type": "code",
   "execution_count": null,
   "metadata": {},
   "outputs": [],
   "source": []
  }
 ],
 "metadata": {
  "kernelspec": {
   "display_name": "Python 3",
   "language": "python",
   "name": "python3"
  },
  "language_info": {
   "codemirror_mode": {
    "name": "ipython",
    "version": 3
   },
   "file_extension": ".py",
   "mimetype": "text/x-python",
   "name": "python",
   "nbconvert_exporter": "python",
   "pygments_lexer": "ipython3",
   "version": "3.8.5"
  }
 },
 "nbformat": 4,
 "nbformat_minor": 4
}
