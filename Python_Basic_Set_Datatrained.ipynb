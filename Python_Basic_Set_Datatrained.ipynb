{
 "cells": [
  {
   "cell_type": "code",
   "execution_count": 5,
   "metadata": {},
   "outputs": [
    {
     "name": "stdout",
     "output_type": "stream",
     "text": [
      "{'Thursday', 'Sunday', 'Tuesday', 'Wednesday', 'Friday', 'Monday', 'Saturday'}\n",
      "<class 'set'>\n",
      "\n",
      "Thursday\n",
      "Sunday\n",
      "Tuesday\n",
      "Wednesday\n",
      "Friday\n",
      "Monday\n",
      "Saturday\n"
     ]
    }
   ],
   "source": [
    "Days = {\"Monday\", \"Tuesday\", \"Wednesday\", \"Thursday\", \"Friday\", \"Saturday\", \"Sunday\"} \n",
    "print(Days)\n",
    "print(type(Days),end=\"\\n\\n\")\n",
    "for i in Days:\n",
    "    print(i)"
   ]
  },
  {
   "cell_type": "markdown",
   "metadata": {},
   "source": [
    "### Using set() method"
   ]
  },
  {
   "cell_type": "code",
   "execution_count": 10,
   "metadata": {},
   "outputs": [
    {
     "name": "stdout",
     "output_type": "stream",
     "text": [
      "{'Thursday', 'Sunday', 'Tuesday', 'Wednesday', 'Friday', 'Monday', 'Saturday'}\n",
      "<class 'set'> \n",
      "\n",
      " Thursday\n",
      "Sunday\n",
      "Tuesday\n",
      "Wednesday\n",
      "Friday\n",
      "Monday\n",
      "Saturday\n"
     ]
    }
   ],
   "source": [
    "Days =set([\"Monday\", \"Tuesday\", \"Wednesday\", \"Thursday\", \"Friday\", \"Saturday\", \"Sunday\"])\n",
    "print(Days)\n",
    "print(type(Days),end=\" \\n\\n \")\n",
    "for i in Days:\n",
    "    print(i)"
   ]
  },
  {
   "cell_type": "code",
   "execution_count": 13,
   "metadata": {},
   "outputs": [
    {
     "name": "stdout",
     "output_type": "stream",
     "text": [
      "<class 'dict'>\n",
      "<class 'set'>\n"
     ]
    }
   ],
   "source": [
    "set1={}\n",
    "print(type(set1))\n",
    "set2=set()\n",
    "print(type(set2))"
   ]
  },
  {
   "cell_type": "code",
   "execution_count": 14,
   "metadata": {},
   "outputs": [
    {
     "name": "stdout",
     "output_type": "stream",
     "text": [
      "Return set with unique elements: {1, 2, 4, 5, 8, 9, 10}\n"
     ]
    }
   ],
   "source": [
    "set5 = {1,2,4,4,5,8,9,9,10}  \n",
    "print(\"Return set with unique elements:\",set5)"
   ]
  },
  {
   "cell_type": "markdown",
   "metadata": {},
   "source": [
    "### Adding items to the set"
   ]
  },
  {
   "cell_type": "code",
   "execution_count": 23,
   "metadata": {},
   "outputs": [
    {
     "name": "stdout",
     "output_type": "stream",
     "text": [
      "Origianl set \n",
      " {'January', 'February', 'May', 'March', 'June', 'April'}\n",
      "Modified set\n",
      " {'January', 'September', 'August', 'February', 'May', 'October', 'November', 'March', 'July', 'December', 'June', 'April'}\n",
      "January\n",
      "September\n",
      "August\n",
      "February\n",
      "May\n",
      "October\n",
      "November\n",
      "March\n",
      "July\n",
      "December\n",
      "June\n",
      "April\n"
     ]
    }
   ],
   "source": [
    "\n",
    "Months = set([\"January\",\"February\", \"March\", \"April\", \"May\", \"June\"]) \n",
    "print(\"Origianl set \\n\",Months)\n",
    "Months.add(\"July\")\n",
    "Months.add(\"August\")\n",
    "Months.add(\"September\")\n",
    "Months.update([\"October\",\"November\",\"December\"])\n",
    "print(\"Modified set\\n\",Months)\n",
    "for i in Months:\n",
    "    print(i)"
   ]
  },
  {
   "cell_type": "markdown",
   "metadata": {},
   "source": [
    "### Removing items from the set"
   ]
  },
  {
   "cell_type": "code",
   "execution_count": 36,
   "metadata": {},
   "outputs": [
    {
     "name": "stdout",
     "output_type": "stream",
     "text": [
      "Orisinal set\n",
      " {'September', 'August', 'February', 'October', 'November', 'March', 'July', 'December', 'June'}\n",
      "Discarded set\n",
      " {'September', 'August', 'February', 'October', 'November', 'March', 'July', 'December', 'June'}\n",
      "Discarded set\n",
      " {'September', 'August', 'February', 'October', 'November', 'March', 'July', 'December'}\n",
      "Discarded set\n",
      " {'August', 'February', 'October', 'November', 'March', 'July', 'December'}\n"
     ]
    },
    {
     "ename": "TypeError",
     "evalue": "unhashable type: 'list'",
     "output_type": "error",
     "traceback": [
      "\u001b[1;31m---------------------------------------------------------------------------\u001b[0m",
      "\u001b[1;31mTypeError\u001b[0m                                 Traceback (most recent call last)",
      "\u001b[1;32m<ipython-input-36-1489d6327422>\u001b[0m in \u001b[0;36m<module>\u001b[1;34m\u001b[0m\n\u001b[0;32m      6\u001b[0m \u001b[0mMonths\u001b[0m\u001b[1;33m.\u001b[0m\u001b[0mpop\u001b[0m\u001b[1;33m(\u001b[0m\u001b[1;33m)\u001b[0m\u001b[1;33m\u001b[0m\u001b[1;33m\u001b[0m\u001b[0m\n\u001b[0;32m      7\u001b[0m \u001b[0mprint\u001b[0m\u001b[1;33m(\u001b[0m\u001b[1;34m\"Discarded set\\n\"\u001b[0m\u001b[1;33m,\u001b[0m\u001b[0mMonths\u001b[0m\u001b[1;33m)\u001b[0m\u001b[1;33m\u001b[0m\u001b[1;33m\u001b[0m\u001b[0m\n\u001b[1;32m----> 8\u001b[1;33m \u001b[0mMonths\u001b[0m\u001b[1;33m.\u001b[0m\u001b[0mdiscard\u001b[0m\u001b[1;33m(\u001b[0m\u001b[1;33m[\u001b[0m\u001b[1;34m\"October\"\u001b[0m\u001b[1;33m,\u001b[0m\u001b[1;34m\"November\"\u001b[0m\u001b[1;33m,\u001b[0m\u001b[1;34m\"December\"\u001b[0m\u001b[1;33m]\u001b[0m\u001b[1;33m)\u001b[0m\u001b[1;33m\u001b[0m\u001b[1;33m\u001b[0m\u001b[0m\n\u001b[0m\u001b[0;32m      9\u001b[0m \u001b[0mprint\u001b[0m\u001b[1;33m(\u001b[0m\u001b[1;34m\"Discarded set\\n\"\u001b[0m\u001b[1;33m,\u001b[0m\u001b[0mMonths\u001b[0m\u001b[1;33m)\u001b[0m\u001b[1;33m\u001b[0m\u001b[1;33m\u001b[0m\u001b[0m\n",
      "\u001b[1;31mTypeError\u001b[0m: unhashable type: 'list'"
     ]
    }
   ],
   "source": [
    "print(\"Orisinal set\\n\",Months)\n",
    "Months.discard(\"January\")\n",
    "print(\"Discarded set\\n\",Months)\n",
    "Months.remove(\"June\")\n",
    "print(\"Discarded set\\n\",Months)\n",
    "Months.pop()\n",
    "print(\"Discarded set\\n\",Months)\n",
    "Months.discard([\"October\",\"November\",\"December\"])\n",
    "print(\"Discarded set\\n\",Months)"
   ]
  },
  {
   "cell_type": "markdown",
   "metadata": {},
   "source": [
    "### Python Set Operations"
   ]
  },
  {
   "cell_type": "code",
   "execution_count": 41,
   "metadata": {},
   "outputs": [
    {
     "name": "stdout",
     "output_type": "stream",
     "text": [
      "{'Sunday', 'Friday', 'Monday', 'Thursday', 'Saturday', 'Tuesday', 'Wednesday'}\n",
      "{'Sunday', 'Friday', 'Monday', 'Thursday', 'Saturday', 'Tuesday', 'Wednesday'}\n",
      "{'Sunday'}\n",
      "{'Monday', 'Thursday', 'Tuesday', 'Wednesday'}\n",
      "{'Monday', 'Thursday', 'Tuesday', 'Wednesday'}\n",
      "False\n",
      "False\n"
     ]
    }
   ],
   "source": [
    "Days1 = {\"Monday\",\"Tuesday\",\"Wednesday\",\"Thursday\", \"Sunday\"}    \n",
    "Days2 = {\"Friday\",\"Saturday\",\"Sunday\"} \n",
    "print(Days1|Days2)\n",
    "print(Days1.union(Days2))\n",
    "print(Days1&Days2)\n",
    "print(Days1-Days2)\n",
    "print(Days1.difference(Days2))\n",
    "print (Days1>Days2)\n",
    "print (Days1<Days2)"
   ]
  },
  {
   "cell_type": "markdown",
   "metadata": {},
   "source": [
    "# FrozenSets"
   ]
  },
  {
   "cell_type": "code",
   "execution_count": 42,
   "metadata": {},
   "outputs": [
    {
     "name": "stdout",
     "output_type": "stream",
     "text": [
      "<class 'frozenset'>\n",
      "\n",
      "printing the content of frozen set...\n",
      "1\n",
      "2\n",
      "3\n",
      "4\n",
      "5\n"
     ]
    },
    {
     "ename": "AttributeError",
     "evalue": "'frozenset' object has no attribute 'add'",
     "output_type": "error",
     "traceback": [
      "\u001b[1;31m---------------------------------------------------------------------------\u001b[0m",
      "\u001b[1;31mAttributeError\u001b[0m                            Traceback (most recent call last)",
      "\u001b[1;32m<ipython-input-42-4816df35407c>\u001b[0m in \u001b[0;36m<module>\u001b[1;34m\u001b[0m\n\u001b[0;32m      4\u001b[0m \u001b[1;32mfor\u001b[0m \u001b[0mi\u001b[0m \u001b[1;32min\u001b[0m \u001b[0mFrozenset\u001b[0m\u001b[1;33m:\u001b[0m\u001b[1;33m\u001b[0m\u001b[1;33m\u001b[0m\u001b[0m\n\u001b[0;32m      5\u001b[0m     \u001b[0mprint\u001b[0m\u001b[1;33m(\u001b[0m\u001b[0mi\u001b[0m\u001b[1;33m)\u001b[0m\u001b[1;33m;\u001b[0m\u001b[1;33m\u001b[0m\u001b[1;33m\u001b[0m\u001b[0m\n\u001b[1;32m----> 6\u001b[1;33m \u001b[0mFrozenset\u001b[0m\u001b[1;33m.\u001b[0m\u001b[0madd\u001b[0m\u001b[1;33m(\u001b[0m\u001b[1;36m6\u001b[0m\u001b[1;33m)\u001b[0m\u001b[1;33m\u001b[0m\u001b[1;33m\u001b[0m\u001b[0m\n\u001b[0m",
      "\u001b[1;31mAttributeError\u001b[0m: 'frozenset' object has no attribute 'add'"
     ]
    }
   ],
   "source": [
    "Frozenset = frozenset([1,2,3,4,5])     \n",
    "print(type(Frozenset))    \n",
    "print(\"\\nprinting the content of frozen set...\")    \n",
    "for i in Frozenset:    \n",
    "    print(i);    \n",
    "Frozenset.add(6)"
   ]
  },
  {
   "cell_type": "markdown",
   "metadata": {},
   "source": [
    "# Frozenset for the dictionary"
   ]
  },
  {
   "cell_type": "code",
   "execution_count": 43,
   "metadata": {},
   "outputs": [
    {
     "name": "stdout",
     "output_type": "stream",
     "text": [
      "<class 'dict'>\n",
      "<class 'frozenset'>\n",
      "ID\n",
      "Country\n",
      "Name\n"
     ]
    }
   ],
   "source": [
    "Dictionary = {\"Name\":\"John\", \"Country\":\"USA\", \"ID\":101}     \n",
    "print(type(Dictionary))    \n",
    "Frozenset = frozenset(Dictionary); #Frozenset will contain the keys of the dictionary    \n",
    "print(type(Frozenset))    \n",
    "for i in Frozenset:     \n",
    "    print(i)"
   ]
  },
  {
   "cell_type": "code",
   "execution_count": null,
   "metadata": {},
   "outputs": [],
   "source": []
  }
 ],
 "metadata": {
  "kernelspec": {
   "display_name": "Python 3",
   "language": "python",
   "name": "python3"
  },
  "language_info": {
   "codemirror_mode": {
    "name": "ipython",
    "version": 3
   },
   "file_extension": ".py",
   "mimetype": "text/x-python",
   "name": "python",
   "nbconvert_exporter": "python",
   "pygments_lexer": "ipython3",
   "version": "3.8.5"
  }
 },
 "nbformat": 4,
 "nbformat_minor": 4
}
