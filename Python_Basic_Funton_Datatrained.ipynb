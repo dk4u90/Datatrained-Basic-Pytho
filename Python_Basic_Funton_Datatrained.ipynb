{
 "cells": [
  {
   "cell_type": "code",
   "execution_count": 1,
   "metadata": {},
   "outputs": [],
   "source": [
    "def hello_word():\n",
    "    print(\"Hello word\")"
   ]
  },
  {
   "cell_type": "code",
   "execution_count": 2,
   "metadata": {},
   "outputs": [
    {
     "name": "stdout",
     "output_type": "stream",
     "text": [
      "Hello word\n",
      "None\n",
      "<function hello_word at 0x0000000005F6B430>\n"
     ]
    }
   ],
   "source": [
    "print(hello_word())\n",
    "print(hello_word)"
   ]
  },
  {
   "cell_type": "code",
   "execution_count": 3,
   "metadata": {},
   "outputs": [],
   "source": [
    "def sum():\n",
    "    a=10\n",
    "    b=20\n",
    "    c=30\n",
    "    d=a+b+c"
   ]
  },
  {
   "cell_type": "code",
   "execution_count": 4,
   "metadata": {},
   "outputs": [
    {
     "name": "stdout",
     "output_type": "stream",
     "text": [
      "None\n"
     ]
    }
   ],
   "source": [
    "print(sum())"
   ]
  },
  {
   "cell_type": "code",
   "execution_count": 5,
   "metadata": {},
   "outputs": [],
   "source": [
    "def sum():\n",
    "    a=10\n",
    "    b=20\n",
    "    c=30\n",
    "    d=a+b+c\n",
    "    return d"
   ]
  },
  {
   "cell_type": "code",
   "execution_count": 6,
   "metadata": {},
   "outputs": [
    {
     "name": "stdout",
     "output_type": "stream",
     "text": [
      "60\n"
     ]
    }
   ],
   "source": [
    "print(sum())"
   ]
  },
  {
   "cell_type": "code",
   "execution_count": 7,
   "metadata": {},
   "outputs": [],
   "source": [
    "def sum():\n",
    "    a=10\n",
    "    b=20\n",
    "    c=30\n",
    "    d=a+b+c\n",
    "    print(d)"
   ]
  },
  {
   "cell_type": "code",
   "execution_count": 8,
   "metadata": {},
   "outputs": [
    {
     "name": "stdout",
     "output_type": "stream",
     "text": [
      "60\n"
     ]
    }
   ],
   "source": [
    "sum()"
   ]
  },
  {
   "cell_type": "code",
   "execution_count": 9,
   "metadata": {},
   "outputs": [],
   "source": [
    "def sum(a,b):\n",
    "    return a+b"
   ]
  },
  {
   "cell_type": "code",
   "execution_count": 10,
   "metadata": {},
   "outputs": [
    {
     "data": {
      "text/plain": [
       "5"
      ]
     },
     "execution_count": 10,
     "metadata": {},
     "output_type": "execute_result"
    }
   ],
   "source": [
    "sum(2,3)"
   ]
  },
  {
   "cell_type": "code",
   "execution_count": 11,
   "metadata": {},
   "outputs": [
    {
     "name": "stdout",
     "output_type": "stream",
     "text": [
      "Enter the first no2\n",
      "Enter the Second no3\n"
     ]
    },
    {
     "data": {
      "text/plain": [
       "5"
      ]
     },
     "execution_count": 11,
     "metadata": {},
     "output_type": "execute_result"
    }
   ],
   "source": [
    "a=int(input(\"Enter the first no\"))\n",
    "b=int(input(\"Enter the Second no\"))\n",
    "sum(a,b)"
   ]
  },
  {
   "cell_type": "code",
   "execution_count": 12,
   "metadata": {},
   "outputs": [],
   "source": [
    "def change_list(list1):    \n",
    "    list1.append(20)   \n",
    "    list1.append(30)  \n",
    "    return list1"
   ]
  },
  {
   "cell_type": "code",
   "execution_count": 13,
   "metadata": {},
   "outputs": [
    {
     "data": {
      "text/plain": [
       "[10, 30, 40, 50, 20, 30]"
      ]
     },
     "execution_count": 13,
     "metadata": {},
     "output_type": "execute_result"
    }
   ],
   "source": [
    "list2=[10,30,40,50]\n",
    "change_list(list2)"
   ]
  },
  {
   "cell_type": "code",
   "execution_count": 14,
   "metadata": {},
   "outputs": [],
   "source": [
    "def change_string (str):    \n",
    "    str = str + \" Hows you \" \n",
    "    return str"
   ]
  },
  {
   "cell_type": "code",
   "execution_count": 15,
   "metadata": {},
   "outputs": [
    {
     "data": {
      "text/plain": [
       "'Hi I am there Hows you '"
      ]
     },
     "execution_count": 15,
     "metadata": {},
     "output_type": "execute_result"
    }
   ],
   "source": [
    "str=\"Hi I am there\" \n",
    "change_string(str)"
   ]
  },
  {
   "cell_type": "code",
   "execution_count": 16,
   "metadata": {},
   "outputs": [
    {
     "name": "stdout",
     "output_type": "stream",
     "text": [
      "Enter the principle amount? 2\n",
      "Enter the rate of interest? 3\n",
      "Enter the time in years? 3\n",
      "Simple Interest:  0.18\n"
     ]
    }
   ],
   "source": [
    "def simple_interest(p,t,r):    \n",
    "    return (p*t*r)/100    \n",
    "p = float(input(\"Enter the principle amount? \"))    \n",
    "r = float(input(\"Enter the rate of interest? \"))    \n",
    "t = float(input(\"Enter the time in years? \"))    \n",
    "print(\"Simple Interest: \",simple_interest(p,r,t))"
   ]
  },
  {
   "cell_type": "code",
   "execution_count": 17,
   "metadata": {},
   "outputs": [
    {
     "name": "stdout",
     "output_type": "stream",
     "text": [
      "My name is john and age is 22\n",
      "My name is David and age is 10\n"
     ]
    }
   ],
   "source": [
    "def printme(name,age=22):    \n",
    "    print(\"My name is\",name,\"and age is\",age)    \n",
    "printme(name = \"john\") #the variable age is not passed into the function however the default value of age is considered in the function    \n",
    "printme(age = 10,name=\"David\")#the value of age is overwritten here, 10 will be printed"
   ]
  },
  {
   "cell_type": "code",
   "execution_count": 18,
   "metadata": {},
   "outputs": [],
   "source": [
    "def printme(*name):\n",
    "    print(\"type of passed argument is\",type(name))\n",
    "    for i in name:\n",
    "        print(i)"
   ]
  },
  {
   "cell_type": "code",
   "execution_count": 19,
   "metadata": {},
   "outputs": [
    {
     "name": "stdout",
     "output_type": "stream",
     "text": [
      "type of passed argument is <class 'tuple'>\n",
      "john\n",
      "David\n",
      "smith\n",
      "nick\n"
     ]
    }
   ],
   "source": [
    "printme(\"john\",\"David\",\"smith\",\"nick\")"
   ]
  },
  {
   "cell_type": "code",
   "execution_count": 20,
   "metadata": {},
   "outputs": [
    {
     "name": "stdout",
     "output_type": "stream",
     "text": [
      "type of passed argument is <class 'tuple'>\n",
      "['john', 'David', 'smith', 'nick']\n"
     ]
    }
   ],
   "source": [
    "printme([\"john\",\"David\",\"smith\",\"nick\"])"
   ]
  },
  {
   "cell_type": "code",
   "execution_count": 21,
   "metadata": {},
   "outputs": [
    {
     "name": "stdout",
     "output_type": "stream",
     "text": [
      "type of passed argument is <class 'tuple'>\n",
      "{'David', 'nick', 'smith', 'john'}\n"
     ]
    }
   ],
   "source": [
    "printme({\"john\",\"David\",\"smith\",\"nick\"})"
   ]
  },
  {
   "cell_type": "code",
   "execution_count": 22,
   "metadata": {},
   "outputs": [
    {
     "name": "stdout",
     "output_type": "stream",
     "text": [
      "{'a': 'Apple'}\n",
      "{'fruits': 'Orange', 'Vegetables': 'Carrot'}\n"
     ]
    }
   ],
   "source": [
    "def food(**kwargs):  \n",
    "    print(kwargs)  \n",
    "food(a=\"Apple\")  \n",
    "food(fruits=\"Orange\", Vegetables=\"Carrot\")"
   ]
  },
  {
   "cell_type": "code",
   "execution_count": 23,
   "metadata": {},
   "outputs": [
    {
     "name": "stdout",
     "output_type": "stream",
     "text": [
      "Simple Interest:  1900.0\n"
     ]
    }
   ],
   "source": [
    "def simple_interest(p,t,r):    \n",
    "    return (p*t*r)/100    \n",
    "print(\"Simple Interest: \",simple_interest(t=10,r=10,p=1900))"
   ]
  },
  {
   "cell_type": "code",
   "execution_count": null,
   "metadata": {},
   "outputs": [],
   "source": []
  }
 ],
 "metadata": {
  "kernelspec": {
   "display_name": "Python 3",
   "language": "python",
   "name": "python3"
  },
  "language_info": {
   "codemirror_mode": {
    "name": "ipython",
    "version": 3
   },
   "file_extension": ".py",
   "mimetype": "text/x-python",
   "name": "python",
   "nbconvert_exporter": "python",
   "pygments_lexer": "ipython3",
   "version": "3.8.5"
  }
 },
 "nbformat": 4,
 "nbformat_minor": 4
}
