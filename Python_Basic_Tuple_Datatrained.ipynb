{
 "cells": [
  {
   "cell_type": "code",
   "execution_count": 2,
   "metadata": {},
   "outputs": [
    {
     "name": "stdout",
     "output_type": "stream",
     "text": [
      "[101, 'peter', 22]\n",
      "('Apple', 'Banana', 'orange')\n",
      "(10, 20, 30, 40, 50)\n"
     ]
    }
   ],
   "source": [
    "t1=[101,\"peter\",22]\n",
    "t2=(\"Apple\",\"Banana\",\"orange\")\n",
    "t3=10,20,30,40,50 # parentheses is optional\n",
    "print(t1)\n",
    "print(t2)\n",
    "print(t3)"
   ]
  },
  {
   "cell_type": "code",
   "execution_count": 4,
   "metadata": {},
   "outputs": [
    {
     "name": "stdout",
     "output_type": "stream",
     "text": [
      "<class 'str'>\n",
      "<class 'tuple'>\n"
     ]
    }
   ],
   "source": [
    "tup1=(\"Datatrained\")\n",
    "print(type(tup1))\n",
    "tup2=(\"Datatrained\",)\n",
    "print(type(tup2))"
   ]
  },
  {
   "cell_type": "code",
   "execution_count": 12,
   "metadata": {},
   "outputs": [
    {
     "name": "stdout",
     "output_type": "stream",
     "text": [
      "(10, 20, 30, 40, 50, 60, 70)\n",
      "tup3[0] = 10\n",
      "tup3[1] = 20\n",
      "tup3[2] = 30\n",
      "tup3[3] = 40\n",
      "tup3[4] = 50\n",
      "tup3[5] = 60\n",
      "tup3[6] = 70\n"
     ]
    }
   ],
   "source": [
    "tup3=(10,20,30,40,50,60,70)\n",
    "print(tup3)\n",
    "count=0\n",
    "for i in tup3:\n",
    "    print(\"tup3[%d] = %d\"%(count,i))\n",
    "    count=count+1\n",
    "    "
   ]
  },
  {
   "cell_type": "code",
   "execution_count": 21,
   "metadata": {},
   "outputs": [
    {
     "name": "stdout",
     "output_type": "stream",
     "text": [
      "Enter the no element3\n"
     ]
    },
    {
     "ename": "AttributeError",
     "evalue": "'tuple' object has no attribute 'append'",
     "output_type": "error",
     "traceback": [
      "\u001b[1;31m---------------------------------------------------------------------------\u001b[0m",
      "\u001b[1;31mAttributeError\u001b[0m                            Traceback (most recent call last)",
      "\u001b[1;32m<ipython-input-21-2e0aa6e1e46e>\u001b[0m in \u001b[0;36m<module>\u001b[1;34m\u001b[0m\n\u001b[0;32m      2\u001b[0m \u001b[0mtup5\u001b[0m\u001b[1;33m=\u001b[0m\u001b[1;33m(\u001b[0m\u001b[1;33m)\u001b[0m\u001b[1;33m\u001b[0m\u001b[1;33m\u001b[0m\u001b[0m\n\u001b[0;32m      3\u001b[0m \u001b[1;32mfor\u001b[0m \u001b[0mi\u001b[0m \u001b[1;32min\u001b[0m \u001b[0mrange\u001b[0m\u001b[1;33m(\u001b[0m\u001b[1;36m0\u001b[0m\u001b[1;33m,\u001b[0m\u001b[0mtup4\u001b[0m\u001b[1;33m)\u001b[0m\u001b[1;33m:\u001b[0m\u001b[1;33m\u001b[0m\u001b[1;33m\u001b[0m\u001b[0m\n\u001b[1;32m----> 4\u001b[1;33m     \u001b[0mtup5\u001b[0m\u001b[1;33m.\u001b[0m\u001b[0mappend\u001b[0m\u001b[1;33m(\u001b[0m\u001b[0minput\u001b[0m\u001b[1;33m(\u001b[0m\u001b[1;34m\"Enter the element\"\u001b[0m\u001b[1;33m)\u001b[0m\u001b[1;33m)\u001b[0m\u001b[1;33m\u001b[0m\u001b[1;33m\u001b[0m\u001b[0m\n\u001b[0m\u001b[0;32m      5\u001b[0m \u001b[0mprint\u001b[0m\u001b[1;33m(\u001b[0m\u001b[0mtup5\u001b[0m\u001b[1;33m)\u001b[0m\u001b[1;33m\u001b[0m\u001b[1;33m\u001b[0m\u001b[0m\n\u001b[0;32m      6\u001b[0m \u001b[0mprint\u001b[0m\u001b[1;33m(\u001b[0m\u001b[0mtype\u001b[0m\u001b[1;33m(\u001b[0m\u001b[0mtup5\u001b[0m\u001b[1;33m)\u001b[0m\u001b[1;33m)\u001b[0m\u001b[1;33m\u001b[0m\u001b[1;33m\u001b[0m\u001b[0m\n",
      "\u001b[1;31mAttributeError\u001b[0m: 'tuple' object has no attribute 'append'"
     ]
    }
   ],
   "source": [
    "tup4=int(input(\"Enter the no element\"))\n",
    "tup5=()\n",
    "for i in range(0,tup4):\n",
    "    tup5.append(input(\"Enter the element\"))\n",
    "print(tup5)\n",
    "print(type(tup5))"
   ]
  },
  {
   "cell_type": "markdown",
   "metadata": {},
   "source": [
    "### Tuple indexing and slicing"
   ]
  },
  {
   "cell_type": "code",
   "execution_count": 27,
   "metadata": {},
   "outputs": [
    {
     "name": "stdout",
     "output_type": "stream",
     "text": [
      "1\n",
      "(2, 3, 4, 5, 6, 7)\n",
      "(1, 2, 3, 4)\n",
      "(2, 3, 4, 5)\n",
      "(1, 3, 5)\n",
      "4\n",
      "(5, 6)\n",
      "(1, 2, 3, 4, 5, 6)\n",
      "(6, 7)\n"
     ]
    }
   ],
   "source": [
    "tup6 = (1,2,3,4,5,6,7)\n",
    "print(tup6[0])\n",
    "print(tup6[1:])\n",
    "print(tup6[:4])\n",
    "print(tup6[1:5])\n",
    "print(tup6[0:6:2])\n",
    "print(tup6[-4])    \n",
    "print(tup6[-3:-1])  \n",
    "print(tup6[:-1])  \n",
    "print(tup6[-2:])"
   ]
  },
  {
   "cell_type": "markdown",
   "metadata": {},
   "source": [
    "# Deleting Tuple"
   ]
  },
  {
   "cell_type": "code",
   "execution_count": 29,
   "metadata": {},
   "outputs": [
    {
     "name": "stdout",
     "output_type": "stream",
     "text": [
      "(1, 2, 3, 4, 5, 6, 7)\n"
     ]
    },
    {
     "ename": "NameError",
     "evalue": "name 'tup7' is not defined",
     "output_type": "error",
     "traceback": [
      "\u001b[1;31m---------------------------------------------------------------------------\u001b[0m",
      "\u001b[1;31mNameError\u001b[0m                                 Traceback (most recent call last)",
      "\u001b[1;32m<ipython-input-29-8e0a4b970651>\u001b[0m in \u001b[0;36m<module>\u001b[1;34m\u001b[0m\n\u001b[0;32m      2\u001b[0m \u001b[0mprint\u001b[0m\u001b[1;33m(\u001b[0m\u001b[0mtup7\u001b[0m\u001b[1;33m)\u001b[0m\u001b[1;33m\u001b[0m\u001b[1;33m\u001b[0m\u001b[0m\n\u001b[0;32m      3\u001b[0m \u001b[1;32mdel\u001b[0m \u001b[0mtup7\u001b[0m\u001b[1;33m\u001b[0m\u001b[1;33m\u001b[0m\u001b[0m\n\u001b[1;32m----> 4\u001b[1;33m \u001b[0mprint\u001b[0m\u001b[1;33m(\u001b[0m\u001b[0mtup7\u001b[0m\u001b[1;33m)\u001b[0m\u001b[1;33m\u001b[0m\u001b[1;33m\u001b[0m\u001b[0m\n\u001b[0m",
      "\u001b[1;31mNameError\u001b[0m: name 'tup7' is not defined"
     ]
    }
   ],
   "source": [
    "tup7 = (1,2,3,4,5,6,7)\n",
    "print(tup7)\n",
    "del tup7\n",
    "print(tup7)"
   ]
  },
  {
   "cell_type": "markdown",
   "metadata": {},
   "source": [
    "# Basic Tuple operations"
   ]
  },
  {
   "cell_type": "code",
   "execution_count": 35,
   "metadata": {},
   "outputs": [
    {
     "name": "stdout",
     "output_type": "stream",
     "text": [
      "5\n",
      "1\n",
      "(1, 2, 3, 4, 5, 6, 7, 8, 9)\n",
      "(1, 2, 3, 4, 5, 1, 2, 3, 4, 5)\n",
      "False\n",
      "True\n"
     ]
    }
   ],
   "source": [
    "Tuple1 = (1, 2, 3, 4, 5)\n",
    "Tuple2 = (6, 7, 8, 9)\n",
    "print(max(Tuple1))\n",
    "print(min(Tuple1))\n",
    "print(Tuple1+Tuple2)\n",
    "print(Tuple1*2)\n",
    "print(6 in Tuple1)\n",
    "print(2 in Tuple1)"
   ]
  },
  {
   "cell_type": "markdown",
   "metadata": {},
   "source": [
    "### Where use tuple?\n",
    "#### Using tuple instead of list is used in the following scenario.\n",
    "#### Using tuple instead of list gives us a clear idea that tuple data is constant and must not be changed.\n",
    "\n",
    "#### Tuple can simulate a dictionary without keys. Consider the following nested structure, which can be used as a dictionary."
   ]
  },
  {
   "cell_type": "code",
   "execution_count": 39,
   "metadata": {},
   "outputs": [
    {
     "name": "stdout",
     "output_type": "stream",
     "text": [
      "[(101, 'John', 22), (102, 'Mike', 28), (103, 'Dustin', 30)]\n",
      "<class 'list'>\n"
     ]
    }
   ],
   "source": [
    "x=[(101, \"John\", 22), (102, \"Mike\", 28),  (103, \"Dustin\", 30)]\n",
    "print(x)\n",
    "print(type(x))"
   ]
  },
  {
   "cell_type": "code",
   "execution_count": 40,
   "metadata": {},
   "outputs": [
    {
     "name": "stdout",
     "output_type": "stream",
     "text": [
      "((101, 'John', 22), (102, 'Mike', 28), (103, 'Dustin', 30))\n",
      "<class 'tuple'>\n"
     ]
    }
   ],
   "source": [
    "x=((101, \"John\", 22), (102, \"Mike\", 28),  (103, \"Dustin\", 30))\n",
    "print(x)\n",
    "print(type(x))"
   ]
  },
  {
   "cell_type": "code",
   "execution_count": null,
   "metadata": {},
   "outputs": [],
   "source": []
  }
 ],
 "metadata": {
  "kernelspec": {
   "display_name": "Python 3",
   "language": "python",
   "name": "python3"
  },
  "language_info": {
   "codemirror_mode": {
    "name": "ipython",
    "version": 3
   },
   "file_extension": ".py",
   "mimetype": "text/x-python",
   "name": "python",
   "nbconvert_exporter": "python",
   "pygments_lexer": "ipython3",
   "version": "3.8.5"
  }
 },
 "nbformat": 4,
 "nbformat_minor": 4
}
