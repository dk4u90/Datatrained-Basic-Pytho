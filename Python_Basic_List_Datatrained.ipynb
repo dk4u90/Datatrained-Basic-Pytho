{
 "cells": [
  {
   "cell_type": "code",
   "execution_count": 1,
   "metadata": {},
   "outputs": [],
   "source": [
    "emp = [\"John\", 102, \"USA\"]     \n",
    "Dep1 = [\"CS\",10]  \n",
    "Dep2 = [\"IT\",11]    \n",
    "HOD_CS = [10,\"Mr. Sinnha\"]    \n",
    "HOD_IT = [11, \"Mr. Bhushan\"] "
   ]
  },
  {
   "cell_type": "code",
   "execution_count": 2,
   "metadata": {},
   "outputs": [
    {
     "name": "stdout",
     "output_type": "stream",
     "text": [
      "Name : John, ID : 102, Country : USA\n",
      "Department 1: CS, ID : 10\n",
      "Department 2: IT, ID : 11\n",
      "CS HOD Name: Mr. Sinnha, ID : 10\n",
      "IT HOD Name: Mr. Bhushan, ID : 11\n"
     ]
    }
   ],
   "source": [
    "print(\"Name : %s, ID : %d, Country : %s\" %(emp[0],emp[1],emp[2]))\n",
    "print(\"Department 1: %s, ID : %d\" %(Dep1[0],Dep1[1]))\n",
    "print(\"Department 2: %s, ID : %d\" %(Dep2[0],Dep2[1]))\n",
    "print(\"CS HOD Name: %s, ID : %d\" %(HOD_CS[1],HOD_CS[0]))\n",
    "print(\"IT HOD Name: %s, ID : %d\" %(HOD_IT[1],HOD_IT[0]))"
   ]
  },
  {
   "cell_type": "markdown",
   "metadata": {},
   "source": [
    "# List indexing and splitting"
   ]
  },
  {
   "cell_type": "code",
   "execution_count": 3,
   "metadata": {},
   "outputs": [
    {
     "name": "stdout",
     "output_type": "stream",
     "text": [
      "7\n",
      "[0, 1, 2, 3, 4, 5, 6, 7]\n",
      "[0, 1, 2, 3, 4, 5, 6, 7]\n",
      "[2, 3]\n",
      "[0, 1, 2, 3]\n",
      "[1, 3, 5]\n",
      "7\n",
      "[5, 6, 7]\n",
      "[0, 1, 2, 3, 4, 5, 6]\n",
      "[5, 6]\n"
     ]
    }
   ],
   "source": [
    "list_example = [0,1,2,3,4,5,6,7]\n",
    "print(list_example[7])\n",
    "print(list_example[0:])\n",
    "print(list_example[:])\n",
    "print(list_example[2:4])\n",
    "print(list_example[:4])\n",
    "print(list_example[1:6:2])\n",
    "print(list_example[-1])  \n",
    "print(list_example[-3:])  \n",
    "print(list_example[:-1])  \n",
    "print(list_example[-3:-1])"
   ]
  },
  {
   "cell_type": "markdown",
   "metadata": {},
   "source": [
    "# Updating List values"
   ]
  },
  {
   "cell_type": "code",
   "execution_count": 4,
   "metadata": {},
   "outputs": [
    {
     "name": "stdout",
     "output_type": "stream",
     "text": [
      "[1, 2, 7, 4, 5, 6]\n",
      "[1, 10, 11, 11, 5, 6]\n"
     ]
    }
   ],
   "source": [
    "list = [1, 2, 3, 4, 5, 6]  \n",
    "list[2]=7\n",
    "print(list)\n",
    "list[1:4]=[10,11,11]\n",
    "print(list)"
   ]
  },
  {
   "cell_type": "markdown",
   "metadata": {},
   "source": [
    "# Iterating a List"
   ]
  },
  {
   "cell_type": "code",
   "execution_count": 5,
   "metadata": {},
   "outputs": [
    {
     "name": "stdout",
     "output_type": "stream",
     "text": [
      "John\n",
      "David\n",
      "James\n",
      "Jonathan\n"
     ]
    }
   ],
   "source": [
    "list = [\"John\", \"David\", \"James\", \"Jonathan\"]  \n",
    "for i in list:\n",
    "    print(i)"
   ]
  },
  {
   "cell_type": "code",
   "execution_count": 6,
   "metadata": {},
   "outputs": [
    {
     "name": "stdout",
     "output_type": "stream",
     "text": [
      "Enter the number of elements in the list2\n",
      "Enter the item1\n",
      "Enter the item1\n",
      "['1', '1']\n",
      "1\n",
      "1\n"
     ]
    }
   ],
   "source": [
    "l=[]\n",
    "n=int(input('Enter the number of elements in the list'))\n",
    "for i in range(0,n):\n",
    "    l.append(input('Enter the item'))\n",
    "print(l)\n",
    "for i in l:\n",
    "    print(i)"
   ]
  },
  {
   "cell_type": "markdown",
   "metadata": {},
   "source": [
    "# Removing elements from the list"
   ]
  },
  {
   "cell_type": "code",
   "execution_count": 7,
   "metadata": {},
   "outputs": [
    {
     "name": "stdout",
     "output_type": "stream",
     "text": [
      "0 1 2 3 4 \n",
      "printing the list after the removal of first element...\n",
      "0 1 2 4 "
     ]
    }
   ],
   "source": [
    "list = [0,1,2,3,4]    \n",
    "#print('Original list')\n",
    "for i in list:\n",
    "    print(i,end=\" \")\n",
    "list.remove(3)\n",
    "\n",
    "print(\"\\nprinting the list after the removal of first element...\") \n",
    "for i in list:\n",
    "    print(i,end=\" \")\n",
    "  "
   ]
  },
  {
   "cell_type": "code",
   "execution_count": 8,
   "metadata": {},
   "outputs": [
    {
     "name": "stdout",
     "output_type": "stream",
     "text": [
      "Print list1[1, 2, 2, 3, 55, 98, 65, 65, 13, 29]\n",
      "Print list2[1, 2, 3, 55, 98, 65, 13, 29]\n"
     ]
    }
   ],
   "source": [
    "list1 = [1,2,2,3,55,98,65,65,13,29] \n",
    "print('Print list1{}'.format(list1))\n",
    "list2=[]\n",
    "for i in list1:\n",
    "    if i not in list2:\n",
    "        list2.append(i)\n",
    "print('Print list2{}'.format(list2))"
   ]
  },
  {
   "cell_type": "code",
   "execution_count": 9,
   "metadata": {},
   "outputs": [
    {
     "name": "stdout",
     "output_type": "stream",
     "text": [
      "333\n"
     ]
    }
   ],
   "source": [
    "list1 =[1,2,2,3,55,98,65,65,13,29] \n",
    "sum=0\n",
    "for i in list1:\n",
    "    sum=sum+i\n",
    "print(sum)"
   ]
  },
  {
   "cell_type": "code",
   "execution_count": 10,
   "metadata": {},
   "outputs": [
    {
     "name": "stdout",
     "output_type": "stream",
     "text": [
      "The comman element is: 2\n",
      "The comman element is: 10\n"
     ]
    }
   ],
   "source": [
    "list1 =[1,2,10,3,55,98,65,65,13,29] \n",
    "list2 = [7,8,9,2,10] \n",
    "for i in list1:\n",
    "    for x in list2:\n",
    "        if i==x:\n",
    "            print(\"The comman element is:\",i)"
   ]
  },
  {
   "cell_type": "code",
   "execution_count": 11,
   "metadata": {},
   "outputs": [
    {
     "name": "stdout",
     "output_type": "stream",
     "text": [
      "The comman element is: [2, 10]\n"
     ]
    }
   ],
   "source": [
    "list1 =[1,2,10,3,55,98,65,65,13,29] \n",
    "list2 = [7,8,9,2,10] \n",
    "common_element=[]\n",
    "for i in list1:\n",
    "    for x in list2:\n",
    "        if i==x:\n",
    "            common_element.append(i)\n",
    "print(\"The comman element is:\",common_element)"
   ]
  },
  {
   "cell_type": "code",
   "execution_count": null,
   "metadata": {},
   "outputs": [],
   "source": []
  }
 ],
 "metadata": {
  "kernelspec": {
   "display_name": "Python 3",
   "language": "python",
   "name": "python3"
  },
  "language_info": {
   "codemirror_mode": {
    "name": "ipython",
    "version": 3
   },
   "file_extension": ".py",
   "mimetype": "text/x-python",
   "name": "python",
   "nbconvert_exporter": "python",
   "pygments_lexer": "ipython3",
   "version": "3.8.5"
  }
 },
 "nbformat": 4,
 "nbformat_minor": 4
}
